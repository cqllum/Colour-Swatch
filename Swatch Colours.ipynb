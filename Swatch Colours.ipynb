{
 "cells": [
  {
   "cell_type": "markdown",
   "id": "dc24aad5",
   "metadata": {},
   "source": [
    "# Gather Swatch Hex Colour of Images\n",
    "Using this script, you are able to gather the Hex Colour code for images by providing only the URL of the image.\n",
    "\n",
    "# Purpose?\n",
    "If you sell goods on a website, you can generate bulk swatch colours in seconds.\n",
    "\n",
    "# How accurate is it?\n",
    "This script allows you to declare how many snapshots to take of random coordinates on the image - the more snapshots, the better."
   ]
  },
  {
   "cell_type": "code",
   "execution_count": 199,
   "id": "6d0be22a",
   "metadata": {},
   "outputs": [],
   "source": [
    "## Imports \n",
    "from PIL import Image\n",
    "import requests\n",
    "import random"
   ]
  },
  {
   "cell_type": "markdown",
   "id": "7c7fe047",
   "metadata": {},
   "source": [
    "After declaring the imports, add functions to make calculations later on."
   ]
  },
  {
   "cell_type": "code",
   "execution_count": 200,
   "id": "ee5ff27e",
   "metadata": {},
   "outputs": [],
   "source": [
    "# Get the average of a list\n",
    "def get_average(ds):\n",
    "    return sum(ds) / len(ds)\n",
    "\n",
    "# Convert RGB to HEX code format\n",
    "def rgbhex(rgb):\n",
    "        return '#%02x%02x%02x' % rgb"
   ]
  },
  {
   "cell_type": "markdown",
   "id": "2bd81aa3",
   "metadata": {},
   "source": [
    "Next, load the main function that will be gathering the data for processing."
   ]
  },
  {
   "cell_type": "code",
   "execution_count": 201,
   "id": "4e1f5a8d",
   "metadata": {},
   "outputs": [],
   "source": [
    "# Load and gather image hex from URL\n",
    "def get_image(url, snaps = 5):\n",
    "    \n",
    "    # Prepare arrays for multiple data retrieval\n",
    "    xr = []\n",
    "    xg = []\n",
    "    xb = []\n",
    "    \n",
    "    # Request and stream URL, then open raw data via PIL\n",
    "    im = Image.open(requests.get(url, stream=True).raw)\n",
    "    \n",
    "    # convert image to RGB\n",
    "    rgb_im = im.convert('RGB')\n",
    "\n",
    "    # Get the size of image\n",
    "    dims = im.size\n",
    "\n",
    "    # Declare coordinates based on x and y axis\n",
    "    x = dims[0]\n",
    "    y = dims[1]\n",
    "    \n",
    "    # Loop through snapshots provided by function\n",
    "    for snap in range(snaps):\n",
    "        \n",
    "            # Calculate random coordinates to get colour for (accuracy)\n",
    "            xaxis = int(x) / random.randint(2, 5)\n",
    "            yaxis = int(y) / random.randint(2, 5)\n",
    "            \n",
    "            # Get the RGB of calculated pixel\n",
    "            ds = rgb_im.getpixel((int(xaxis), int(yaxis)))\n",
    "            \n",
    "            # Push each coordinate into list\n",
    "            xr.append(ds[0])\n",
    "            xg.append(ds[1])\n",
    "            xb.append(ds[2])\n",
    "        \n",
    "    # Get the average R,G,B values based on snapshots\n",
    "    swatch = int(get_average(xr)),  int(get_average(xg)),  int(get_average(xb))\n",
    "    \n",
    "    # Get hex colour for RGB\n",
    "    return \"snaps\", snaps, rgbhex(swatch)"
   ]
  },
  {
   "cell_type": "markdown",
   "id": "8e54195d",
   "metadata": {},
   "source": [
    "Then finally, execute the given code to gather the perfect hex colour."
   ]
  },
  {
   "cell_type": "code",
   "execution_count": 206,
   "id": "a9e51d4b",
   "metadata": {},
   "outputs": [
    {
     "name": "stdout",
     "output_type": "stream",
     "text": [
      "('snaps', 25, '#e59cc0')\n"
     ]
    }
   ],
   "source": [
    "# Image URL\n",
    "url = \"https://www.clker.com/cliparts/C/H/o/A/i/k/pink-shirt-hi.png\"\n",
    "\n",
    "# How many snap shots should be captured of the hex colours? The higher, the better.\n",
    "snapshots = 25\n",
    "\n",
    "print(get_image(url, snapshots))"
   ]
  },
  {
   "cell_type": "markdown",
   "id": "008ca3c0",
   "metadata": {},
   "source": [
    "The results of 25 snapshots grouped together, produces #e59cc0 (pink) for an image of a pink shirt."
   ]
  },
  {
   "cell_type": "markdown",
   "id": "6119b6f2",
   "metadata": {},
   "source": [
    "# Do you have multiple images to iterate through?\n",
    "Not an issue! You can simply loop through your images, and produce hex colours for your entire list."
   ]
  },
  {
   "cell_type": "code",
   "execution_count": 213,
   "id": "1bdf4f8b",
   "metadata": {
    "scrolled": true
   },
   "outputs": [
    {
     "name": "stdout",
     "output_type": "stream",
     "text": [
      "('snaps', 25, '#f2a4cb') https://www.clker.com/cliparts/C/H/o/A/i/k/pink-shirt-hi.png\n",
      "('snaps', 25, '#fdd12b') https://wallpapertops.com/walldb/original/8/a/f/123350.jpg\n",
      "('snaps', 25, '#adac9c') https://wallpapercave.com/wp/wp2466652.jpg\n"
     ]
    }
   ],
   "source": [
    "images = [\n",
    "    \"https://www.clker.com/cliparts/C/H/o/A/i/k/pink-shirt-hi.png\",\n",
    "    \"https://wallpapertops.com/walldb/original/8/a/f/123350.jpg\",\n",
    "    \"https://wallpapercave.com/wp/wp2466652.jpg\"\n",
    "]\n",
    "\n",
    "for image in images:\n",
    "    print(get_image(image, snapshots), image)"
   ]
  },
  {
   "cell_type": "markdown",
   "id": "6b735753",
   "metadata": {},
   "source": [
    "# Other uses:\n",
    "If you own a website, you're able to reprogram this script to gather hex colours for every image on your website, desktop, shared area."
   ]
  },
  {
   "cell_type": "markdown",
   "id": "1f4c7d5f",
   "metadata": {},
   "source": [
    "~~ github/cqllum"
   ]
  }
 ],
 "metadata": {
  "kernelspec": {
   "display_name": "Python 3 (ipykernel)",
   "language": "python",
   "name": "python3"
  },
  "language_info": {
   "codemirror_mode": {
    "name": "ipython",
    "version": 3
   },
   "file_extension": ".py",
   "mimetype": "text/x-python",
   "name": "python",
   "nbconvert_exporter": "python",
   "pygments_lexer": "ipython3",
   "version": "3.10.0"
  }
 },
 "nbformat": 4,
 "nbformat_minor": 5
}
